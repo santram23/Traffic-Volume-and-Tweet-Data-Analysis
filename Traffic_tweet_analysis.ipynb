{
  "nbformat": 4,
  "nbformat_minor": 0,
  "metadata": {
    "colab": {
      "provenance": []
    },
    "kernelspec": {
      "name": "python3",
      "display_name": "Python 3"
    },
    "language_info": {
      "name": "python"
    }
  },
  "cells": [
    {
      "cell_type": "markdown",
      "source": [
        "##Traffic Volume Analysis and Tweet Processing Using Python\n",
        "###NAME - SANTRAM\n",
        "### ROLL NO. -231030050"
      ],
      "metadata": {
        "id": "idZQ6aNjz-cA"
      }
    },
    {
      "cell_type": "markdown",
      "source": [
        "### Traffic Volume Data Analysis"
      ],
      "metadata": {
        "id": "nMdVxGanEtMp"
      }
    },
    {
      "cell_type": "code",
      "source": [
        "import numpy as np\n",
        "import re\n",
        "\n",
        "a=np.loadtxt('ques1_txt.txt',delimiter=',')  # loading of given data\n",
        "a"
      ],
      "metadata": {
        "colab": {
          "base_uri": "https://localhost:8080/"
        },
        "id": "cj3bcWasC5ty",
        "outputId": "c991f4e5-cce5-4c47-eb6d-da930afa307f"
      },
      "execution_count": null,
      "outputs": [
        {
          "output_type": "execute_result",
          "data": {
            "text/plain": [
              "array([[ 550.,  764.,  803.,  525.,  964.,  611.,  506.,  752.,  577.,\n",
              "         967.,  682.,  788.],\n",
              "       [ 864.,  521.,  983.,  512.,  556.,  716.,  856.,  711.,  889.,\n",
              "         954.,  831.,  998.],\n",
              "       [ 832.,  902.,  569.,  728.,  551.,  543.,  580.,  881.,  805.,\n",
              "         804.,  872.,  574.],\n",
              "       [ 829.,  797.,  547.,  845.,  772.,  822.,  586.,  753.,  871.,\n",
              "         976.,  833.,  708.],\n",
              "       [ 975.,  809.,  707.,  919.,  533.,  681.,  711.,  538.,  541.,\n",
              "         739.,  722.,  766.],\n",
              "       [ 847.,  641.,  874.,  719.,  598.,  954.,  573.,  726.,  970.,\n",
              "         583.,  552.,  680.],\n",
              "       [ 965.,  581.,  633.,  616.,  734.,  903.,  535.,  783.,  868.,\n",
              "         845.,  591.,  854.],\n",
              "       [ 745.,  547.,  889.,  885.,  747.,  581.,  823.,  612.,  582.,\n",
              "         878.,  590.,  968.],\n",
              "       [ 718.,  670.,  590.,  587.,  698.,  881.,  666.,  856.,  654.,\n",
              "         795.,  823.,  908.],\n",
              "       [ 900.,  609.,  990.,  997.,  509.,  565.,  834.,  882.,  615.,\n",
              "         901.,  754.,  629.],\n",
              "       [ 627.,  669.,  972.,  969.,  821.,  510.,  589.,  997.,  763.,\n",
              "         743.,  975.,  760.],\n",
              "       [ 973.,  982.,  690.,  534.,  500.,  507.,  760.,  710.,  898.,\n",
              "         804.,  901.,  752.],\n",
              "       [ 524.,  882.,  990.,  749.,  642.,  536.,  867.,  951.,  587.,\n",
              "         987.,  971.,  613.],\n",
              "       [ 937.,  871.,  819.,  704.,  628.,  683.,  716.,  868.,  915.,\n",
              "         947.,  609.,  523.],\n",
              "       [ 797.,  697.,  525.,  999.,  755.,  505.,  693.,  670.,  781.,\n",
              "         555.,  820.,  847.],\n",
              "       [ 654.,  788.,  823.,  703.,  843.,  870.,  832.,  669.,  772.,\n",
              "         519.,  839.,  674.],\n",
              "       [ 578.,  835.,  665.,  569.,  757.,  601.,  930.,  843.,  535.,\n",
              "         551.,  519.,  685.],\n",
              "       [ 701.,  780.,  720.,  654.,  799.,  731.,  829.,  857.,  976.,\n",
              "         914.,  971.,  982.],\n",
              "       [ 783.,  663.,  860.,  565.,  546.,  786.,  883.,  815.,  593.,\n",
              "         937.,  915.,  695.],\n",
              "       [ 777.,  550.,  626.,  757.,  985.,  684.,  866.,  923.,  689.,\n",
              "         908.,  824.,  782.],\n",
              "       [ 722.,  620.,  771.,  538.,  818.,  840.,  501.,  644.,  675.,\n",
              "         980.,  956.,  917.],\n",
              "       [ 714.,  712.,  643.,  759.,  884.,  730.,  928.,  940.,  736.,\n",
              "         955.,  739.,  926.],\n",
              "       [ 514.,  972.,  558.,  951.,  587.,  517.,  672.,  572.,  556.,\n",
              "         875.,  848.,  523.],\n",
              "       [ 627.,  705.,  797.,  546.,  905.,  745.,  792.,  535.,  662.,\n",
              "         983.,  885.,  658.],\n",
              "       [ 652.,  551.,  883.,  621.,  500.,  503.,  964.,  532.,  746.,\n",
              "         848.,  562.,  501.],\n",
              "       [ 819.,  657.,  803.,  980.,  919.,  752.,  524.,  624.,  501.,\n",
              "         991.,  604.,  610.],\n",
              "       [ 528.,  923.,  760.,  762.,  984.,  938.,  531.,  988.,  798.,\n",
              "         987.,  567.,  780.],\n",
              "       [ 530.,  883.,  931.,  852.,  843.,  839.,  726.,  945.,  960.,\n",
              "         799.,  654.,  991.],\n",
              "       [ 817.,  737.,  551.,  644.,  533.,  806.,  794.,  508.,  700.,\n",
              "         543.,  808.,  869.],\n",
              "       [ 679.,  889.,  780.,  815.,  528.,  503.,  814.,  680.,  776.,\n",
              "         763.,  704.,  793.],\n",
              "       [ 581.,  662.,  600.,  981.,  909.,  735.,  920.,  886.,  532.,\n",
              "         914.,  974.,  955.],\n",
              "       [ 895.,  543.,  951.,  970.,  557.,  888.,  978.,  644.,  552.,\n",
              "         694.,  790.,  807.],\n",
              "       [ 652., 1000.,  553.,  713.,  541.,  786.,  548.,  504.,  911.,\n",
              "         693.,  866.,  766.],\n",
              "       [ 883.,  651.,  733.,  915.,  867.,  708.,  918.,  994.,  633.,\n",
              "         979.,  939.,  888.],\n",
              "       [ 960.,  852.,  545.,  678.,  890.,  803.,  981.,  968.,  792.,\n",
              "         730.,  801.,  794.],\n",
              "       [ 697.,  940.,  530.,  840.,  879.,  796.,  632.,  930.,  809.,\n",
              "         862.,  681.,  612.],\n",
              "       [ 606.,  969.,  560.,  542.,  755.,  509.,  616.,  620.,  555.,\n",
              "         573.,  829.,  625.],\n",
              "       [ 742.,  703.,  917.,  685.,  999.,  761.,  645.,  825.,  698.,\n",
              "         689.,  534.,  620.],\n",
              "       [ 539.,  612.,  800.,  653.,  971.,  866.,  669.,  999.,  770.,\n",
              "         739.,  668.,  997.],\n",
              "       [ 601.,  503.,  640.,  985.,  548.,  741.,  987.,  643.,  577.,\n",
              "         825.,  779.,  750.],\n",
              "       [ 585.,  831.,  750.,  633.,  934.,  855.,  951.,  511.,  792.,\n",
              "         867.,  521.,  643.],\n",
              "       [ 890.,  848.,  584.,  857.,  947.,  599.,  661.,  831.,  993.,\n",
              "         613.,  529.,  742.],\n",
              "       [ 999.,  884.,  963.,  612.,  630.,  775.,  666.,  892.,  678.,\n",
              "         915.,  937.,  663.],\n",
              "       [ 821.,  968.,  836.,  503.,  546.,  729.,  627.,  708.,  899.,\n",
              "         864.,  716.,  677.],\n",
              "       [ 793.,  502.,  520.,  939.,  562.,  707.,  658.,  568.,  980.,\n",
              "         798.,  774.,  660.],\n",
              "       [ 734.,  691.,  938.,  713.,  932.,  929.,  934.,  884.,  888.,\n",
              "         603.,  762.,  768.],\n",
              "       [ 955.,  561.,  604.,  889.,  894.,  844.,  515.,  522.,  914.,\n",
              "         990.,  732.,  596.],\n",
              "       [ 751.,  771.,  924.,  768.,  875.,  593.,  635.,  526.,  854.,\n",
              "         816.,  824.,  822.],\n",
              "       [ 679.,  755.,  565.,  545.,  877.,  930.,  851.,  606.,  826.,\n",
              "         903.,  987.,  918.],\n",
              "       [ 681.,  900.,  699.,  734.,  589.,  863.,  636.,  992.,  768.,\n",
              "         546.,  608.,  655.]])"
            ]
          },
          "metadata": {},
          "execution_count": 60
        }
      ]
    },
    {
      "cell_type": "code",
      "source": [
        "z=a.shape[0]    # no. of sites finding using shape syntex\n",
        "print('no. of sites are' ,z)\n"
      ],
      "metadata": {
        "colab": {
          "base_uri": "https://localhost:8080/"
        },
        "id": "XzDWW5Vn3eEP",
        "outputId": "12f12ad1-8d47-4180-eee3-716f5eb6b776"
      },
      "execution_count": null,
      "outputs": [
        {
          "output_type": "stream",
          "name": "stdout",
          "text": [
            "no. of sites are 50\n"
          ]
        }
      ]
    },
    {
      "cell_type": "code",
      "source": [
        "c=a.sum(axis=1)\n",
        "# monthly average traffic volume of each site is the mean of traffic of monthly traffic volume data given\n",
        "print('monthly average traffic volume :')\n",
        "print(c/12)"
      ],
      "metadata": {
        "colab": {
          "base_uri": "https://localhost:8080/"
        },
        "id": "5SPYW8HE6kT3",
        "outputId": "19323bdc-3faf-4002-d0d3-32e3b6f70a5e"
      },
      "execution_count": null,
      "outputs": [
        {
          "output_type": "stream",
          "name": "stdout",
          "text": [
            "monthly average traffic volume :\n",
            "[707.41666667 782.58333333 720.08333333 778.25       720.08333333\n",
            " 726.41666667 742.33333333 737.25       737.16666667 765.41666667\n",
            " 782.91666667 750.91666667 774.91666667 768.33333333 720.33333333\n",
            " 748.83333333 672.33333333 826.16666667 753.41666667 780.91666667\n",
            " 748.5        805.5        678.75       736.66666667 655.25\n",
            " 732.         795.5        829.41666667 692.5        727.\n",
            " 804.08333333 772.41666667 711.08333333 842.33333333 816.16666667\n",
            " 767.33333333 646.58333333 734.83333333 773.58333333 714.91666667\n",
            " 739.41666667 757.83333333 801.16666667 741.16666667 705.08333333\n",
            " 814.66666667 751.33333333 763.25       786.83333333 722.58333333]\n"
          ]
        }
      ]
    },
    {
      "cell_type": "code",
      "source": [
        "d=c/12\n",
        "# by slicing syntex we get first five month's monthly average traffic\n",
        "print('monthly average traffic of first five sites is', d[0:5,])"
      ],
      "metadata": {
        "colab": {
          "base_uri": "https://localhost:8080/"
        },
        "id": "yfO9sDyUbQ0B",
        "outputId": "5effbf95-2325-4ebe-f708-74f361849565"
      },
      "execution_count": null,
      "outputs": [
        {
          "output_type": "stream",
          "name": "stdout",
          "text": [
            "monthly average traffic of first five sites is [707.41666667 782.58333333 720.08333333 778.25       720.08333333]\n"
          ]
        }
      ]
    },
    {
      "cell_type": "code",
      "source": [
        "# position of maximum and minimum yearly volume among all sites find using argmax and argmin syntex\n",
        "print('maximum yearly volume has site',c.argmax()+1)\n",
        "print('minimum yearly volume has site',c.argmin()+1)"
      ],
      "metadata": {
        "colab": {
          "base_uri": "https://localhost:8080/"
        },
        "id": "1ygi8dY1PRfW",
        "outputId": "c5843617-2642-410c-ad36-a37a0efb16d2"
      },
      "execution_count": null,
      "outputs": [
        {
          "output_type": "stream",
          "name": "stdout",
          "text": [
            "maximum yearly volume has site 34\n",
            "minimum yearly volume has site 37\n"
          ]
        }
      ]
    },
    {
      "cell_type": "code",
      "source": [
        "print(\" maximum yearly volume among all sites\", c.max()) # column sum across month\n",
        "print('minimum yearly volume among all sites', c.min())"
      ],
      "metadata": {
        "colab": {
          "base_uri": "https://localhost:8080/"
        },
        "id": "7tK_W4sbvVm0",
        "outputId": "a1a8802a-9f89-45bf-e8a2-75d163064d90"
      },
      "execution_count": null,
      "outputs": [
        {
          "output_type": "stream",
          "name": "stdout",
          "text": [
            " maximum yearly volume among all sites 10108.0\n",
            "minimum yearly volume among all sites 7759.0\n"
          ]
        }
      ]
    },
    {
      "cell_type": "code",
      "source": [
        "# introducing of dictionary to get month name\n",
        "j={1:'jan',2:'fab',3:'mar',4:'apr',5:'may',6:'jun',7:'jul',8:'aug',9:'sep',10:'oct',11:'nov',12:'dec'}\n",
        "j"
      ],
      "metadata": {
        "colab": {
          "base_uri": "https://localhost:8080/"
        },
        "id": "tTDl4LGbTN7g",
        "outputId": "f0db4c0b-db79-453a-a382-0b475af14045"
      },
      "execution_count": null,
      "outputs": [
        {
          "output_type": "execute_result",
          "data": {
            "text/plain": [
              "{1: 'jan',\n",
              " 2: 'fab',\n",
              " 3: 'mar',\n",
              " 4: 'apr',\n",
              " 5: 'may',\n",
              " 6: 'jun',\n",
              " 7: 'jul',\n",
              " 8: 'aug',\n",
              " 9: 'sep',\n",
              " 10: 'oct',\n",
              " 11: 'nov',\n",
              " 12: 'dec'}"
            ]
          },
          "metadata": {},
          "execution_count": 30
        }
      ]
    },
    {
      "cell_type": "code",
      "source": [
        "h=a.sum(axis=0) # row sum to get sum of monthly traffic across all sites\n",
        "\n",
        "# finding of maximum traffic volume month among all sites using max syntex\n",
        "print(\"maximum traffic volume among all months\",h.max())\n",
        "\n",
        "#using of argmax syntex to find position of maximum traffic volume month\n",
        "print(\"maximum traffic has month\",h.argmax()+1)"
      ],
      "metadata": {
        "colab": {
          "base_uri": "https://localhost:8080/"
        },
        "id": "SQF_4mquMzi7",
        "outputId": "370d0ce2-6774-4afb-b558-64d70f6dc36f"
      },
      "execution_count": null,
      "outputs": [
        {
          "output_type": "stream",
          "name": "stdout",
          "text": [
            "maximum traffic volume among all months 40644.0\n",
            "maximum traffic has month 10\n"
          ]
        }
      ]
    },
    {
      "cell_type": "code",
      "source": [
        "print('month' ,j[10],'has maximimum traffic volume of 40644.0')# apply of dictionary"
      ],
      "metadata": {
        "colab": {
          "base_uri": "https://localhost:8080/"
        },
        "id": "EcKaRczQNIHT",
        "outputId": "cd40d21f-f6a2-4592-a6a9-4e96ed5939fd"
      },
      "execution_count": null,
      "outputs": [
        {
          "output_type": "stream",
          "name": "stdout",
          "text": [
            "month oct has maximimum traffic volume of 40644.0\n"
          ]
        }
      ]
    },
    {
      "cell_type": "code",
      "source": [
        "# finding of minimum traffic volume month among all sites using min syntex\n",
        "print(\"minimum traffic volume among all months\",h.min())\n",
        "\n",
        "# using of argmin syntex to find position of minimum traffic volume month\n",
        "print(\"minimum traffic has month\",h.argmin()+1)"
      ],
      "metadata": {
        "colab": {
          "base_uri": "https://localhost:8080/"
        },
        "id": "BocSPrLCbRK9",
        "outputId": "afc03804-dbdf-46a8-f69a-cde4d7c29d50"
      },
      "execution_count": null,
      "outputs": [
        {
          "output_type": "stream",
          "name": "stdout",
          "text": [
            "minimum traffic volume among all months 36260.0\n",
            "minimum traffic has month 6\n"
          ]
        }
      ]
    },
    {
      "cell_type": "code",
      "source": [
        "print('month' ,j[6],'has minimum traffic volume of 36260.0')# apply of dictionary"
      ],
      "metadata": {
        "colab": {
          "base_uri": "https://localhost:8080/"
        },
        "id": "WVh4XTLXcBEp",
        "outputId": "f5862ada-f514-4a35-98ce-f460842eb48e"
      },
      "execution_count": null,
      "outputs": [
        {
          "output_type": "stream",
          "name": "stdout",
          "text": [
            "month jun has minimum traffic volume of 36260.0\n"
          ]
        }
      ]
    },
    {
      "cell_type": "code",
      "source": [
        "d=np.where(c>9700) # conditioon apply to find position\n",
        "f=np.array(d) # changing of tuple to array\n",
        "y=f+1 # add 1 because array defines position start from 0 but we want start from 1\n",
        "print('sites',y,'has total yearly volume > 9700 vehicles')"
      ],
      "metadata": {
        "colab": {
          "base_uri": "https://localhost:8080/"
        },
        "id": "GXQlr-WPcxd1",
        "outputId": "cff504c1-1805-4682-8a59-51ff93fc39d2"
      },
      "execution_count": null,
      "outputs": [
        {
          "output_type": "stream",
          "name": "stdout",
          "text": [
            "sites [[18 28 34 35 46]] has total yearly volume > 9700 vehicles\n"
          ]
        }
      ]
    },
    {
      "cell_type": "code",
      "source": [
        "m=np.where(h>38000) # condition apply to find position\n",
        "g=np.array(m) # changing of tuple to array\n",
        "t=g+1\n",
        "print('months',t,\"has total monthly traffic volume >38000\" )"
      ],
      "metadata": {
        "colab": {
          "base_uri": "https://localhost:8080/"
        },
        "id": "rORbDXife6Br",
        "outputId": "dcdd0196-5ad4-4b24-ab47-ffd9f4ee0f7f"
      },
      "execution_count": null,
      "outputs": [
        {
          "output_type": "stream",
          "name": "stdout",
          "text": [
            "months [[10 11]] has total monthly traffic volume >38000\n"
          ]
        }
      ]
    },
    {
      "cell_type": "markdown",
      "source": [
        "### Tweet Processing"
      ],
      "metadata": {
        "id": "cdOMQWc8TToE"
      }
    },
    {
      "cell_type": "code",
      "source": [
        "# storing of tweet as single string\n",
        "statement=\" Neeraj Chopra brings home the much awaited Gold First place medal for Flag of India in his debut Olympic Games.The gigantic effort made sureIndia has best ever medal haul in the olympics. Congratulations champ Neeraj Chopra, the whole nation is proud of you \"\n",
        "statement"
      ],
      "metadata": {
        "colab": {
          "base_uri": "https://localhost:8080/",
          "height": 72
        },
        "id": "s5AX1KrYWmdO",
        "outputId": "a26654eb-1548-42a8-ad64-154356768b8b"
      },
      "execution_count": null,
      "outputs": [
        {
          "output_type": "execute_result",
          "data": {
            "text/plain": [
              "' Neeraj Chopra brings home the much awaited Gold First place medal for Flag of India in his debut Olympic Games.The gigantic effort made sureIndia has best ever medal haul in the olympics. Congratulations champ Neeraj Chopra, the whole nation is proud of you '"
            ],
            "application/vnd.google.colaboratory.intrinsic+json": {
              "type": "string"
            }
          },
          "metadata": {},
          "execution_count": 40
        }
      ]
    },
    {
      "cell_type": "code",
      "source": [
        "#spliting of list that shows a element as a single word\n",
        "v=statement.split()\n",
        "v"
      ],
      "metadata": {
        "colab": {
          "base_uri": "https://localhost:8080/"
        },
        "id": "qYEx6AZqX3_f",
        "outputId": "f26db758-5fcc-4a11-f6d2-596990093044"
      },
      "execution_count": null,
      "outputs": [
        {
          "output_type": "execute_result",
          "data": {
            "text/plain": [
              "['Neeraj',\n",
              " 'Chopra',\n",
              " 'brings',\n",
              " 'home',\n",
              " 'the',\n",
              " 'much',\n",
              " 'awaited',\n",
              " 'Gold',\n",
              " 'First',\n",
              " 'place',\n",
              " 'medal',\n",
              " 'for',\n",
              " 'Flag',\n",
              " 'of',\n",
              " 'India',\n",
              " 'in',\n",
              " 'his',\n",
              " 'debut',\n",
              " 'Olympic',\n",
              " 'Games.The',\n",
              " 'gigantic',\n",
              " 'effort',\n",
              " 'made',\n",
              " 'sureIndia',\n",
              " 'has',\n",
              " 'best',\n",
              " 'ever',\n",
              " 'medal',\n",
              " 'haul',\n",
              " 'in',\n",
              " 'the',\n",
              " 'olympics.',\n",
              " 'Congratulations',\n",
              " 'champ',\n",
              " 'Neeraj',\n",
              " 'Chopra,',\n",
              " 'the',\n",
              " 'whole',\n",
              " 'nation',\n",
              " 'is',\n",
              " 'proud',\n",
              " 'of',\n",
              " 'you']"
            ]
          },
          "metadata": {},
          "execution_count": 53
        }
      ]
    },
    {
      "cell_type": "code",
      "source": [
        "r=len(u) # no. of words present in tweet\n",
        "print (r,'words are present in the tweet')"
      ],
      "metadata": {
        "colab": {
          "base_uri": "https://localhost:8080/"
        },
        "id": "qJyxrxaRY8uJ",
        "outputId": "3eea61c8-6fb5-48ca-d162-8bdafbc8de91"
      },
      "execution_count": null,
      "outputs": [
        {
          "output_type": "stream",
          "name": "stdout",
          "text": [
            "45 words are present in the tweet\n"
          ]
        }
      ]
    },
    {
      "cell_type": "code",
      "source": [
        "s=set(u) # set gives unique words by removing duplicte words\n",
        "t=len(s) # no. of unique word present in tweet\n",
        "print(t,'unique words are present in the tweet')"
      ],
      "metadata": {
        "colab": {
          "base_uri": "https://localhost:8080/"
        },
        "id": "EvdaR7uSZS4o",
        "outputId": "2f5a4bca-826c-4f2d-dc09-0c6e3011c05d"
      },
      "execution_count": null,
      "outputs": [
        {
          "output_type": "stream",
          "name": "stdout",
          "text": [
            "38 unique words are present in the tweet\n"
          ]
        }
      ]
    }
  ]
}